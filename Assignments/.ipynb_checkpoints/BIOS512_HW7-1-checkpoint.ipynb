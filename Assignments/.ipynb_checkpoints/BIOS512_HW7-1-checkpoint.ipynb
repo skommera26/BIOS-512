{
 "cells": [
  {
   "cell_type": "markdown",
   "id": "766a4c53-5596-4e39-9082-8e97c8e59c41",
   "metadata": {},
   "source": [
    "# Homework 7\n",
    "This homework is based on the advanced Git lectures. "
   ]
  },
  {
   "cell_type": "markdown",
   "id": "bbb6e943-d49a-4d2e-81f3-59c2d1a3be31",
   "metadata": {},
   "source": [
    "## Question 1\n",
    "#### What is the holy trinity of Git? (Just name the parts.)"
   ]
  },
  {
   "cell_type": "markdown",
   "id": "1f89ad62-1a06-4ef8-8529-c3a685990ea1",
   "metadata": {},
   "source": [
    "*A:* The branch, working copy, and staging area"
   ]
  },
  {
   "cell_type": "markdown",
   "id": "47bc27c0-290e-4e94-a071-a37ff613a7c8",
   "metadata": {},
   "source": [
    "## Question 2\n",
    "#### Explain how patches relate to the idea of committing a change to the history of your code?"
   ]
  },
  {
   "cell_type": "markdown",
   "id": "a0156329-07df-4aca-880f-deb17498d039",
   "metadata": {},
   "source": [
    "*A:* Patch takes all the changes from one file to another and composes them into a single file, which can then be used to compare other versions of a file.  This relates to the idea of committing a change to the history of our code because this patch file consists of all the changes that were made to a file.  And so, when committing a change, we are committing all the changes made to the working file to our local repository. Thus, both patches and commits utilize the idea of changes between two files to update different files."
   ]
  },
  {
   "cell_type": "markdown",
   "id": "9aa99e0b-8fbe-4ccc-a728-b39b1fda153c",
   "metadata": {},
   "source": [
    "## Question 3\n",
    "#### What is the difference between a branch and a fork?"
   ]
  },
  {
   "cell_type": "markdown",
   "id": "df8c9fa7-ec07-4305-87fa-5673960ac10d",
   "metadata": {},
   "source": [
    "*A:* A fork is a copy of a repository that is separate from the original. Any changes made on the fork are not shown in the original. The branch, however, is a history of commits. It is not a copy of the repository but contains any commits staged to the branch. These branches are then applied to the repository to reflect the commits made and the changes to files. Thus, brunches ultimately do change repos, but a fork does not.\n"
   ]
  },
  {
   "cell_type": "markdown",
   "id": "c6ac98c7-e4ea-4274-a88d-398cb739fab9",
   "metadata": {},
   "source": [
    "## Question 4\n",
    "#### How are diff and patch related? What’s the difference?"
   ]
  },
  {
   "cell_type": "markdown",
   "id": "7569ba8e-f023-4e86-9bea-51f6ec3cb0e9",
   "metadata": {},
   "source": [
    "*A:* Diff and patch are related because they go hand in hand to create a file that reflects the changes made from one file to the next.  A diff shows the differences between two files through the use of +' and -'s, such that a plus means it is in the first file, while a - means it is not. On the other hand, a patch takes differences from one file to another and applies any changes from file one to two using the patch command.  They are both similar because they both identify the differences between two given files."
   ]
  },
  {
   "cell_type": "markdown",
   "id": "02988321-54d5-4086-a62f-d6f7a5961c22",
   "metadata": {},
   "source": [
    "## Question 5\n",
    "#### See the diagram below.\n",
    "```\n",
    "alice            *-*-*-*-d-e     \n",
    "bob              *-*-*-*-a-b-c\n",
    "origin/main      *-*-*-*-a-b-c\n",
    "```"
   ]
  },
  {
   "cell_type": "markdown",
   "id": "a7a0e35d-54e4-4392-b9c0-fd60c9840ae7",
   "metadata": {},
   "source": [
    "#### a) What part of the Git trininty does each line represent?"
   ]
  },
  {
   "cell_type": "markdown",
   "id": "7869753f-61c4-4e19-b680-9e9014e95147",
   "metadata": {},
   "source": [
    "*A:* Alice represents the working directory\n",
    "    Bob represents the stag\n",
    "    Origin/ main represents the branch"
   ]
  },
  {
   "cell_type": "markdown",
   "id": "0133ec2c-ba54-4b8f-9b13-6ee60dda9995",
   "metadata": {},
   "source": [
    "#### b) What would the result be if Alice performed a rebase? Edit the diagram. What would she type in the terminal to rebase, then push?"
   ]
  },
  {
   "cell_type": "markdown",
   "id": "33160381-a325-458f-8695-b425c91f36c5",
   "metadata": {},
   "source": [
    "*A:* If Alice performed a rebase, then Alice's commits would be in the order that she originally had the latest commits in her branch. Then git would recommit d-e, creating new IDs for Alice. Thus, the diagram would now look like so:\n",
    "\n",
    "```\n",
    "alice            *-*-*-*-a-b-c-d'-e'\n",
    "bob              *-*-*-*-a-b-c\n",
    "origin/main      *-*-*-*-a-b-c-d'-e'\n",
    "```\n",
    "Her command in git would be:\n",
    "\n",
    "```\n",
    "git rebase\n",
    "```"
   ]
  },
  {
   "cell_type": "markdown",
   "id": "e4e672b7-2f26-40c6-984d-3aea3817c4f5",
   "metadata": {},
   "source": [
    "#### c) What would the result be if Alice performed a merge? Edit the diagram. What would she type in the terminal to merge, then push?"
   ]
  },
  {
   "cell_type": "markdown",
   "id": "8fe7a5da-426c-47c4-95f1-9df4397ead9a",
   "metadata": {},
   "source": [
    "*A:* c) If alice performed a merge, then the result would be that Alice's commits would also be shown in the origin/main, but it would be shown in the wrong order.  Git would show that the qr commits came after Alice's commits, when really they came before, thus d-e would not be recommited and would keep their original history, creating a messier history.\n",
    "\n",
    "```\n",
    "alice            *-*-*-*-a-b-c-d-e\n",
    "bob              *-*-*-*-a-b-c\n",
    "origin/main      *-*-*-*-a-b-c-d-e\n",
    "```\n",
    "Her command in git would be:\n",
    "```\n",
    "git merge\n",
    "```"
   ]
  },
  {
   "cell_type": "markdown",
   "id": "d6a2191c-775d-4894-9c63-caf8eb07f2db",
   "metadata": {},
   "source": [
    "#### d) Which would be the better option (rebase vs. merge)? Why?"
   ]
  },
  {
   "cell_type": "markdown",
   "id": "00ae7fd3-f148-4fb3-8900-bedd520ea35b",
   "metadata": {},
   "source": [
    "*A:* Rebase would be a better option because it creates a cleaner history be recommiting the changes alcie made in a way that is true to the history of how these changes were pushed to the project.  By doing rebase git adds a-b-c in a way that it seems like Alice originaly had the latest from the beginning, and ensures that her commits reflect that in their history."
   ]
  },
  {
   "cell_type": "markdown",
   "id": "65b5eb8a-cee0-4a97-b89c-8746c37669ea",
   "metadata": {},
   "source": [
    "## Question 6\n",
    "#### Match the command/vocab word to the description.\n",
    "You can edit the table!\n",
    "\n",
    "| Command / Vocab     | Answer | Description |\n",
    "|---------------------|------------|------------|\n",
    "| git stash          |  | B.  Takes any changes that haven't been committed and puts them in a dust bin  |\n",
    "| git push           |  | J.  Pushes the new commits to the main branch |\n",
    "| git clone          |  | N.  Makes a copy of an existing repo at in a new directory at another location |\n",
    "| git commit         |  | M.  Saves file changes to the main branch |\n",
    "| git log            |  | A.  Gives project history  |\n",
    "| git add -i         | |K.  Interactive staging!  |\n",
    "| git rebase         |  | P.  Combines branches by moving commits onto the tip of another branch, creating a linear history |\n",
    "| git init           |  |  Q. Creates a new git repository |\n",
    "| git checkout       |  |  E.  Moves something from the branch to the working copy |\n",
    "| git status         |  |  F.  Lists which files are staged, unstaged, and untracked |\n",
    "| git diff           |  | O.  Compares current, unsaved changes to the main branch  |\n",
    "| git merge          |  | H.  Combines two branches together in a way that is not ideal for your collaborators   |\n",
    "| git add            |  | I.  Adds changes from the working directory to the staging area  |\n",
    "| git pull           |  | D.  Retrieves any commits on the remote branch that you don’t yet have locally and integrates them into your current branch|\n",
    "| git show           |  | G.  Displays information about a specific commit |\n",
    "| git blame          |  | C.  Shows who last modified each line of a file and in which commit |\n",
    "| .gitignore         |  | L.  Text file that contains names of files Git should not track  |"
   ]
  },
  {
   "cell_type": "markdown",
   "id": "36663f18-7e8a-4400-86ef-1cbda6b508c1",
   "metadata": {},
   "source": [
    "## Question 7\n",
    "#### Walk me through how you would do interactive staging."
   ]
  },
  {
   "cell_type": "markdown",
   "id": "370daf96-ab8f-46eb-bed9-3a2d4eb23020",
   "metadata": {},
   "source": [
    "#### a) Firstly, what situation would interactive staging be useful in?"
   ]
  },
  {
   "cell_type": "markdown",
   "id": "243fbf4e-d8d1-4a19-9375-6c4310153a43",
   "metadata": {},
   "source": [
    "*A:* Interactive staging would be useful when one does not want to stage all edits made, but only certain chunks of the edits. Specifically, interactive coding allows one to choose chunks of code, split them, and stage to be committed to the main branch."
   ]
  },
  {
   "cell_type": "markdown",
   "id": "cc34b632-ac1d-492c-b865-af36762f0e7e",
   "metadata": {},
   "source": [
    "#### b) What command(s) help you prepare for what you'll see while interactive staging?  What git command would you use to start interactive staging?\n",
    "*Hint*: Check the TA notes."
   ]
  },
  {
   "cell_type": "markdown",
   "id": "fe024299-d207-4b65-ad0a-749cbdf02d0f",
   "metadata": {},
   "source": [
    "*A:* The commands that will help prepare and start the interactive staging are as below:\n",
    "```\n",
    "cd <path to repo file>\n",
    "git status \n",
    "git diff\n",
    "\n",
    "git add -i\n",
    "```\n",
    "\n",
    "git status helps identify which file were changes\n",
    "git diff identifies the act changes made within these files\n",
    "git add -i starts the interactive staging"
   ]
  },
  {
   "cell_type": "markdown",
   "id": "e4b2b21f-e1fb-43ac-b298-6482fcc4bca1",
   "metadata": {},
   "source": [
    "#### c) On the text-based interactive menu, what option do you use?"
   ]
  },
  {
   "cell_type": "markdown",
   "id": "a061fe10-06ae-447b-a4db-b87802165b80",
   "metadata": {},
   "source": [
    "*A:* We use the [p]atch option because we can create a patch, and the interactvive mode will list files that have been changed, and allow one to choose the file they want to patch in chunks."
   ]
  },
  {
   "cell_type": "markdown",
   "id": "74d08623-b10b-43e7-960b-8413f53dd3e5",
   "metadata": {},
   "source": [
    "#### d) After pressing that option, how do you select the file you want to stage?"
   ]
  },
  {
   "cell_type": "markdown",
   "id": "b19f4fca-d8bd-4846-bd48-6cb17400b96a",
   "metadata": {},
   "source": [
    "*A:*  You select the file you want changed by typing the number the terminal has given the file when it listed the changed files"
   ]
  },
  {
   "cell_type": "markdown",
   "id": "fbee64c6-941e-45a2-a83a-a239eb23a700",
   "metadata": {},
   "source": [
    "#### e) What option do you type if you do not want to stage a hunk?"
   ]
  },
  {
   "cell_type": "markdown",
   "id": "405e4fe3-cd5b-471b-831e-707d1513c6fa",
   "metadata": {},
   "source": [
    "*A:* You type d"
   ]
  },
  {
   "cell_type": "markdown",
   "id": "81c8309e-53e2-49e9-a398-7d092330b5a6",
   "metadata": {},
   "source": [
    "#### f) Once you get to a hunk you want to stage, what do you do?"
   ]
  },
  {
   "cell_type": "markdown",
   "id": "af808dbf-e2ba-487e-9e04-4f1ec514952c",
   "metadata": {},
   "source": [
    "*A:* Once you get a hunk you want to stage, you type y, enter to allow that command to pass, and laslty control d to exit the staging. Once exitied we can use git status to see that this file is in the stage to be committed"
   ]
  },
  {
   "cell_type": "markdown",
   "id": "fc4857e9-dd15-44e7-894c-c43855af4b5d",
   "metadata": {},
   "source": [
    "#### g) What if we have more hunks we want to stage?"
   ]
  },
  {
   "cell_type": "markdown",
   "id": "e6157b8c-bd70-4d6c-90bc-de9f8dfaae61",
   "metadata": {},
   "source": [
    "*A:* If there are more hunks to stage, you must start the interactive session again."
   ]
  }
 ],
 "metadata": {
  "kernelspec": {
   "display_name": "Python 3 (ipykernel)",
   "language": "python",
   "name": "python3"
  },
  "language_info": {
   "codemirror_mode": {
    "name": "ipython",
    "version": 3
   },
   "file_extension": ".py",
   "mimetype": "text/x-python",
   "name": "python",
   "nbconvert_exporter": "python",
   "pygments_lexer": "ipython3",
   "version": "3.13.7"
  }
 },
 "nbformat": 4,
 "nbformat_minor": 5
}
