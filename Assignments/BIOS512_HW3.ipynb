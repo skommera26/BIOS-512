{
 "cells": [
  {
   "cell_type": "markdown",
   "id": "45ef956f",
   "metadata": {},
   "source": [
    "# Homework 03 - Nonstandard Evaluation and Git\n",
    "\n",
    "## Nonstandard Evaluation\n"
   ]
  },
  {
   "cell_type": "markdown",
   "id": "7cd69759",
   "metadata": {
    "vscode": {
     "languageId": "r"
    }
   },
   "source": [
    "### Question 1\n",
    "Imagine we have a data frame called `data`, with a `type` column. Which one works and why?\\\n",
    "Function 1:\n",
    "```\n",
    "group_and_tally <- function(df, column){\n",
    "    df %>% group_by({{ column }}) %>% tally();\n",
    "}\n",
    "group_and_tally(data, type);\n",
    "```\n",
    "\n",
    "Function 2:\n",
    "```\n",
    "group_and_tally <- function(df, column){\n",
    "    df %>% group_by(column) %>% tally();\n",
    "}\n",
    "group_and_tally(data, type);\n",
    "```"
   ]
  },
  {
   "cell_type": "markdown",
   "id": "5b7a0bf9-b253-4dc9-817a-2c4203c6ffa1",
   "metadata": {},
   "source": [
    "*A:* "
   ]
  },
  {
   "cell_type": "markdown",
   "id": "d0653501",
   "metadata": {},
   "source": [
    "## Git\n",
    "For the questions below, please add the commands you used to complete these steps.\n",
    "\n",
    "### Question 2\n",
    "Set up your git repo on your local computer. If you already make a git repo on GitHub, but it isn’t on your local computer - clone it."
   ]
  },
  {
   "cell_type": "markdown",
   "id": "90408356-eafb-46ed-8168-9e193d19123c",
   "metadata": {},
   "source": [
    "<span style=\"color: blue;\">\n",
    "    \n",
    "*A:* I have a git repo on GitHub so here are the commands I used to clone it to my local computer\n",
    "\n",
    "\n",
    "cd Downloads/GitHub\n",
    "git clone git:@github.com:skommera26/BIOS-512.git\n",
    "\n",
    "</span>\n"
   ]
  },
  {
   "cell_type": "markdown",
   "id": "9639ba6c",
   "metadata": {
    "vscode": {
     "languageId": "shellscript"
    }
   },
   "source": [
    "### Question 3\n",
    "Set up your SSH key."
   ]
  },
  {
   "cell_type": "markdown",
   "id": "742ca2b7-b060-4d7e-b88f-a14a56be1a30",
   "metadata": {},
   "source": [
    "<span style=\"color: blue;\">\n",
    "    \n",
    "*A:*\n",
    "\n",
    "cd /tmp/\n",
    "\n",
    "mkdir ssh-keys\n",
    "\n",
    "cd ssh-keys/\n",
    "\n",
    "ssh-keygen\n",
    "\n",
    "\n",
    "- Then it prompted me for a title/ name so I chose name (BIOS512)\n",
    "- Next I went to github and added the title of the .pub file of the ssh key\n",
    "- Then I went back to the terminal and typed\n",
    "\n",
    "\n",
    "ssh-add /tmp/ssh-keys/BIOS-512  (for this I used the private key file)\n",
    "\n",
    "git remote add origin git@github.com:skommera26/BIOS-512.git\n",
    "\n",
    "git push -u origin main\n",
    "\n",
    "</span>"
   ]
  },
  {
   "cell_type": "markdown",
   "id": "bcd83789",
   "metadata": {},
   "source": [
    "### Question 4\n",
    "a) Add a HW2 directory to your git repo through the terminal with a HW.md file that says \"This is for homework 2.\"\n"
   ]
  },
  {
   "cell_type": "markdown",
   "id": "0da362fb-bcce-4e31-8716-40410290c29b",
   "metadata": {},
   "source": [
    "<span style=\"color: blue;\">\n",
    "\n",
    "*A:*\n",
    "\n",
    "cd Downloads/GitHub/BIOS-512\n",
    "\n",
    "mkdir HW2\n",
    "\n",
    "cd HW2\n",
    "\n",
    "cat <<EOF> HW.md\n",
    "\n",
    "print(\"This is for homework 2\")\n",
    "\n",
    "EOF\n",
    "\n",
    "</span>"
   ]
  },
  {
   "cell_type": "markdown",
   "id": "0a600019",
   "metadata": {},
   "source": [
    "b) *Add* HW2.md to the staging area. Then, use the command to see which files have been modified, staged for commit, or are untracked. What does it show?\n",
    "They should copy paste the terminal response after git status, and show that key used the commands below."
   ]
  },
  {
   "cell_type": "markdown",
   "id": "e0299aae-39eb-4cc3-be53-30ba160eaa01",
   "metadata": {},
   "source": [
    "<span style=\"color:blue;\">\n",
    "\n",
    "*A:*\n",
    "\n",
    "git add . \n",
    "\n",
    "git status\n",
    "\n",
    "output from terminal:\n",
    "\n",
    "```r\n",
    "- On branch main\n",
    "\n",
    "Your branch is up to date with 'origin/main'.\n",
    "\n",
    "Changes to be committed:\n",
    "  (use \"git restore --staged <file>...\" to unstage)\n",
    "\tnew file:   HW.md\n",
    "\n",
    "Changes not staged for commit:\n",
    "  (use \"git add <file>...\" to update what will be committed)\n",
    "  (use \"git restore <file>...\" to discard changes in working directory)\n",
    "\tmodified:   ../Assignments/BIOS512_HW3.ipynb\n",
    "\n",
    "```\n",
    "\n",
    "</span>\n"
   ]
  },
  {
   "cell_type": "markdown",
   "id": "51a1c8a9",
   "metadata": {},
   "source": [
    "c) Save file changes to the main branch."
   ]
  },
  {
   "cell_type": "markdown",
   "id": "858db152-56cc-4736-8f0a-16c30971dce9",
   "metadata": {},
   "source": [
    "*A:*\n",
    "\n",
    "```{r}\n",
    "git commit -m \"HW2 directory and HW.md file\"\n",
    "git push -u origin main\n",
    "```"
   ]
  },
  {
   "cell_type": "markdown",
   "id": "7ab5dd9a",
   "metadata": {},
   "source": [
    "d) Now, edit the HW2.md file to give it a title."
   ]
  },
  {
   "cell_type": "markdown",
   "id": "2b2e1106-d5c9-4238-9787-aaf22e20f059",
   "metadata": {},
   "source": [
    "*A:*\n",
    "\n",
    "```{r}\n",
    "# I was already in the directory for HW2 so I didnt need to cd anywhere\n",
    "cat <<EOF> HW.md\n",
    "# HW.md title\n",
    "This is for homework 2 # when I first created the file I put print(\"This if for homework 2\") so I added this line hoping to overide it\n",
    "EOF\n",
    "```\n"
   ]
  },
  {
   "cell_type": "markdown",
   "id": "dd391254",
   "metadata": {},
   "source": [
    "e) Use the command that compares current, unsaved changes to the main branch. What does it say?\\\n",
    "\\\n",
    "f) Use the command that checks the status of the working directory and the staging area *again*. What does it say?\\\n",
    "\\\n",
    "g) Once again, add HW2.md to the staging area and save the file changes to the main branch. Then, get use the command that gives you project history and paste the output in your homework."
   ]
  },
  {
   "cell_type": "markdown",
   "id": "4b62710a-3c1e-4f31-9664-43bcf050f17a",
   "metadata": {},
   "source": [
    "*A:*\n",
    "e) \n",
    "```{r}\n",
    "diff --git a/HW2/HW.md b/HW2/HW.md\n",
    "index d2a7ce5..d0a2a35 100644\n",
    "--- a/HW2/HW.md\n",
    "+++ b/HW2/HW.md\n",
    "@@ -1 +1,2 @@\n",
    "-print(\"This is for homework 2\")\n",
    "+# HW.md Title\n",
    "+This is for homework 2\n",
    "\n",
    "```\n",
    "\n",
    "f) \n",
    "\n",
    "```{r}\n",
    "On branch main\n",
    "Your branch is up to date with 'origin/main'. # I have not added the HW.md file as in not done git add . yet\n",
    "\n",
    "Changes not staged for commit:\n",
    "  (use \"git add <file>...\" to update what will be committed)\n",
    "  (use \"git restore <file>...\" to discard changes in working directory)\n",
    "\tmodified:   ../Assignments/.ipynb_checkpoints/BIOS512_HW3-checkpoint.ipynb\n",
    "\tmodified:   ../Assignments/BIOS512_HW3.ipynb\n",
    "\tmodified:   HW.md\n",
    "\n",
    "no changes added to commit (use \"git add\" and/or \"git commit -a\")\n",
    "\n",
    "# the reason the not staged for commit is there is becasue I am activley working on this assignemnt in jupyter notebook while doing the commands in my terminal!\n",
    "\n",
    "```\n",
    "\n",
    "g)\n",
    "\n",
    "```{r}\n",
    "\n",
    "git log\n",
    "\n",
    "# output below (I included the output that was used to complete this portion of the project)\n",
    "\n",
    "commit 33c995e26c66bf35f205b8795b402fee6245eaea (HEAD -> main, origin/main, origin/HEAD)\n",
    "Author: skommera26 <kommer@ad.unc.edu>\n",
    "Date:   Sun Sep 7 12:27:36 2025 -0400\n",
    "\n",
    "    Adding changes for HW.md from HW3 directions\n",
    "\n",
    "commit 647b250db7f333a7713f10c670a8e79542799210\n",
    "Author: Sathvika Kommera <kommer@ad.unc.edu>\n",
    "Date:   Sun Sep 7 12:01:45 2025 -0400\n",
    "\n",
    "    HW2 directory with HW.md file\n",
    "\n",
    "commit 6603a938709859fd2b04515df2e8a917cece6e5e\n",
    "Author: Sathvika Kommera <kommer@ad.unc.edu>\n",
    "Date:   Sun Sep 7 10:44:14 2025 -0400\n",
    "\n",
    "    any commits\n",
    "\n",
    "commit 0a6ff07d3f7ddc4db0596451a91f89f72e40b6de\n",
    "Author: Sathvika Kommera <kommer@ad.unc.edu>\n",
    "Date:   Thu Sep 4 13:30:14 2025 -0400\n",
    "\n",
    "    Adding files to git repo\n",
    "\n",
    "commit 184209e60c858137a8db113550c0a04a6f1f7242\n",
    "Author: Sathvika Kommera <kommer@ad.unc.edu>\n",
    "Date:   Thu Sep 4 13:00:02 2025 -0400\n",
    "\n",
    "    Update install.R\n",
    "    \n",
    "    updating packages needed\n",
    "\n",
    "```\n",
    "\n"
   ]
  },
  {
   "cell_type": "markdown",
   "id": "a19411e1",
   "metadata": {},
   "source": [
    "h) Do some searching... What `git` command will provide you documentation on other commands? Use that command to find documentation on `git log` and `git show`. What does `--since` mean in regards to `git log`? Copy and paste what is written in the documentation."
   ]
  },
  {
   "cell_type": "markdown",
   "id": "aeea513a-2eba-4232-90ae-33c6fcd02fd2",
   "metadata": {},
   "source": [
    "*A:*\n",
    "\n",
    "git help will provide documentation to other commands.\n",
    "It works by adding git help <command that one wants to know about>\n",
    "\n",
    "```{r}\n",
    "using git help to find doccumentation on git log and git show:\n",
    "\n",
    "git help log\n",
    "git help show\n",
    "\n",
    "In regards to git log, --since means it shows commits more recent than a given date. Below is what is written in the doccumentation:\n",
    "         --since=<date>, --after=<date>\n",
    "           Show commits more recent than <date>.\n",
    "\n",
    "```"
   ]
  },
  {
   "cell_type": "markdown",
   "id": "ba302ef2",
   "metadata": {},
   "source": [
    "## Tidyverse\n",
    "\n",
    "Note: Please make sure Binder is set up correctly to run this section. You can follow the instructions here: https://github.com/rjenki/BIOS512. "
   ]
  },
  {
   "cell_type": "markdown",
   "id": "78255223",
   "metadata": {},
   "source": [
    "**Please show your code for this section!** Before completing this section, please run the following."
   ]
  },
  {
   "cell_type": "code",
   "execution_count": 1,
   "id": "11d6108f-f5e8-40ef-ba33-7482b97d029e",
   "metadata": {
    "vscode": {
     "languageId": "r"
    }
   },
   "outputs": [
    {
     "ename": "SyntaxError",
     "evalue": "invalid syntax (2463451364.py, line 7)",
     "output_type": "error",
     "traceback": [
      "  \u001b[36mCell\u001b[39m\u001b[36m \u001b[39m\u001b[32mIn[1]\u001b[39m\u001b[32m, line 7\u001b[39m\n\u001b[31m    \u001b[39m\u001b[31mIRkernel::installspec(user = FALSE)\u001b[39m\n             ^\n\u001b[31mSyntaxError\u001b[39m\u001b[31m:\u001b[39m invalid syntax\n"
     ]
    }
   ],
   "source": [
    "library(tidyverse)\n",
    "if (!dir.exists(\"intermediate\")) dir.create(\"intermediate\", recursive = TRUE)\n",
    "if (!exists(\"mdpre\")) mdpre <- function(x) { print(x) }\n",
    "if (!exists(\"ggmd\"))  ggmd  <- function(p) { print(p) }"
   ]
  },
  {
   "cell_type": "markdown",
   "id": "7a5eb54a",
   "metadata": {},
   "source": [
    "### Question 5\n",
    "\n",
    "Download the patient_names.csv and patient_properties.csv files from Canvas and read them into R. Manually set the date columns to be date variables. Print the first 10 observations of each."
   ]
  },
  {
   "cell_type": "code",
   "execution_count": 8,
   "id": "6a5aa0e9-d872-423e-ae6b-df78aaa79dca",
   "metadata": {},
   "outputs": [
    {
     "ename": "NameError",
     "evalue": "name 'df_patientn' is not defined",
     "output_type": "error",
     "traceback": [
      "\u001b[31m---------------------------------------------------------------------------\u001b[39m",
      "\u001b[31mNameError\u001b[39m                                 Traceback (most recent call last)",
      "\u001b[36mCell\u001b[39m\u001b[36m \u001b[39m\u001b[32mIn[8]\u001b[39m\u001b[32m, line 1\u001b[39m\n\u001b[32m----> \u001b[39m\u001b[32m1\u001b[39m \u001b[43mdf_patientn\u001b[49m <- read_csv(\u001b[33m\"\u001b[39m\u001b[33m~/Downloads/GitHub/BIOS-512/Data/patient_names.csv\u001b[39m\u001b[33m\"\u001b[39m);\n",
      "\u001b[31mNameError\u001b[39m: name 'df_patientn' is not defined"
     ]
    }
   ],
   "source": [
    "\n",
    "df_patientn <- read_csv(\"~/Downloads/GitHub/BIOS-512/Data/patient_names.csv\");\n",
    "\n"
   ]
  },
  {
   "cell_type": "markdown",
   "id": "20018b0e-086a-4166-bccb-ca1711f9c2b0",
   "metadata": {},
   "source": [
    "### Question 6\n",
    "In the data frame pulled from patient_properties, you'll notice that the data is long, not wide. Do a pivot to make the properties their own columns. Print the first 10 observations after you do so."
   ]
  },
  {
   "cell_type": "markdown",
   "id": "dffb85c3",
   "metadata": {},
   "source": [
    "### Question 7\n",
    "Perform a left join of the names and properties_wide data frames by the ID column and print the first 10 rows."
   ]
  },
  {
   "cell_type": "markdown",
   "id": "5f82272f",
   "metadata": {},
   "source": [
    "### Question 8\n",
    "Notice something interesting about the names in our data set. Fix the name formatting and print the first 10 observations."
   ]
  },
  {
   "cell_type": "markdown",
   "id": "c6f65807",
   "metadata": {},
   "source": [
    "### Question 9\n",
    "Using a for statement to loop through the categorical variables (excluding name and ID), print the counts of each unique value in descending order, using the mdpre() function for formatting."
   ]
  },
  {
   "cell_type": "markdown",
   "id": "9c872f41",
   "metadata": {},
   "source": [
    "### Question 10\n",
    "If you see any weird values, get rid of the ones that don't make sense, and combine the ones that are formatted wrong. Don't forget ot check the dates! Print the new tables for categorical values, and print the date ranges."
   ]
  },
  {
   "cell_type": "markdown",
   "id": "b4c83785",
   "metadata": {},
   "source": [
    "### Question 11\n",
    "Make a histogram of the ages of patients by gender. "
   ]
  },
  {
   "cell_type": "markdown",
   "id": "e41b7170",
   "metadata": {},
   "source": [
    "### Question 12\n",
    "Make a scatterplot of birthdate by martial status."
   ]
  }
 ],
 "metadata": {
  "kernelspec": {
   "display_name": "Python 3 (ipykernel)",
   "language": "python",
   "name": "python3"
  },
  "language_info": {
   "codemirror_mode": {
    "name": "ipython",
    "version": 3
   },
   "file_extension": ".py",
   "mimetype": "text/x-python",
   "name": "python",
   "nbconvert_exporter": "python",
   "pygments_lexer": "ipython3",
   "version": "3.13.7"
  }
 },
 "nbformat": 4,
 "nbformat_minor": 5
}
